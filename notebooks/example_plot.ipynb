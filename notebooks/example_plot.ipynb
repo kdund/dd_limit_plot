{
 "cells": [
  {
   "cell_type": "markdown",
   "id": "cb5e1505",
   "metadata": {},
   "source": [
    "# dd_limit_plot\n",
    "is an attempt to make a set of python direct detection result plotting conveniences. \n",
    "\n",
    "Results-- whether they be sensitivities, upper limits etc. are .csvs (as bunch are stored in ../data/ ) \n",
    "In addition, you can optionally add properties (labels, plot colors, bibliography information) for a .csv file named FILENAME.csv under the entry for \"FILENAME\" in ../data/result_metadata.toml\n",
    "\n",
    "The script will look in ../data/ by default, and you can provide just the file name (even including wildcards) to DD_result (if there are several matches, you'll get an error + a list of available matches) "
   ]
  },
  {
   "cell_type": "code",
   "execution_count": null,
   "id": "4f07f2db",
   "metadata": {},
   "outputs": [],
   "source": [
    "from dd_limit_plot import DD_result, find_dd_results\n",
    "import matplotlib.pyplot as plt"
   ]
  },
  {
   "cell_type": "markdown",
   "id": "1458bbbd",
   "metadata": {},
   "source": [
    "## Basic example\n",
    "Let us plot the XENONnT and LZ spin-independent limits, as well as just an example .csv file called example_file.csv:  "
   ]
  },
  {
   "cell_type": "code",
   "execution_count": null,
   "id": "b58cb2ff",
   "metadata": {},
   "outputs": [],
   "source": [
    "xenon_limit = DD_result(\"WIMPSI_XENONnT_2023_2303.14729.csv\")\n",
    "lz_limit    = DD_result(\"WIMPSI_LZ_2023_2207.03764.csv\")\n",
    "example_line = DD_result(\"example_*.csv\")\n",
    "\n",
    "\n",
    "plt.clf()\n",
    "xenon_limit.plot_upper_limit(color=\"blue\", label=\"XENON\")\n",
    "lz_limit.plot_upper_limit(color=\"orange\", label=\"LZ\")\n",
    "example_line.plot_upper_limit(color=\"magenta\", label=\"example\")\n",
    "\n",
    "plt.legend()\n",
    "plt.yscale(\"log\")\n",
    "plt.xscale(\"log\")\n",
    "plt.xlabel(\"WIMP Mass [GeV$/c^2$]\")\n",
    "plt.ylabel(\"WIMP-nucleon cross-section [cm$^2$]\")\n",
    "plt.show()\n"
   ]
  },
  {
   "cell_type": "markdown",
   "id": "e03e66ec",
   "metadata": {},
   "source": [
    "### useful things\n",
    "The Xenon and LZ lines have bibliographical information included in their metadata, so you can print this out: "
   ]
  },
  {
   "cell_type": "code",
   "execution_count": null,
   "id": "f72e10d0",
   "metadata": {},
   "outputs": [],
   "source": [
    "print(xenon_limit.reference)\n",
    "print(lz_limit.reference)"
   ]
  },
  {
   "cell_type": "markdown",
   "id": "7c665479",
   "metadata": {},
   "source": [
    "### Useful things 2\n",
    "\n",
    "The Xenon and LZ results don't just come with the default wimp_mass and upper_limits fields-- they also include the experiment sensitivity-- you can plot the sensitivity lines and bands:"
   ]
  },
  {
   "cell_type": "code",
   "execution_count": null,
   "id": "308e0e7e",
   "metadata": {},
   "outputs": [],
   "source": [
    "plt.clf()\n",
    "xenon_limit.plot_band(\"sensitivity_m2sigma\",\"sensitivity_p2sigma\", alpha=0.15,color=\"blue\") #between -2 sigma and +2sigma\n",
    "xenon_limit.plot_band(\"sensitivity_m1sigma\",\"sensitivity_p1sigma\", alpha=0.3,color=\"blue\") #between -1 sigma and +1sigma\n",
    "xenon_limit.plot_sensitivity(color=\"blue\")\n",
    "lz_limit.plot_band(\"sensitivity_m2sigma\",\"sensitivity_p2sigma\", alpha=0.15,color=\"orange\") #between -2 sigma and +2sigma\n",
    "lz_limit.plot_band(\"sensitivity_m1sigma\",\"sensitivity_p1sigma\", alpha=0.3,color=\"orange\") #between -1 sigma and +1sigma\n",
    "lz_limit.plot_sensitivity(color=\"orange\")\n",
    "xenon_limit.plot_upper_limit(color=\"blue\", label=\"XENON\")\n",
    "lz_limit.plot_upper_limit(color=\"orange\", label=\"LZ\")\n",
    "\n",
    "\n",
    "plt.legend()\n",
    "plt.yscale(\"log\")\n",
    "plt.xscale(\"log\")\n",
    "plt.xlabel(\"WIMP Mass [GeV$/c^2$]\")\n",
    "plt.ylabel(\"WIMP-nucleon cross-section [cm$^2$]\")\n",
    "plt.show()"
   ]
  },
  {
   "cell_type": "markdown",
   "id": "214666c1",
   "metadata": {},
   "source": [
    "## Finding multiple results\n",
    "\n",
    "\n",
    "   By using the find_dd_results, you can get an array of dd_results matching a string-- for this reason, we recommend to name new files following the pattern you see in data-- targetsignal_experiment_year_morename.csv \n",
    "   \n",
    "as an example, lets plot all xenon SI wimp results: @\n"
   ]
  },
  {
   "cell_type": "code",
   "execution_count": null,
   "id": "bbc32e21",
   "metadata": {},
   "outputs": [],
   "source": [
    "xenon_limit.plot_upper_limit"
   ]
  },
  {
   "cell_type": "code",
   "execution_count": null,
   "id": "008a207b",
   "metadata": {},
   "outputs": [],
   "source": [
    "xenon_results = find_dd_results(\"WIMPSI_XENON*\")\n",
    "\n",
    "plt.clf()\n",
    "for k,result in xenon_results.items(): \n",
    "    try: #some of the files are projections that do not have upper limits\n",
    "        result.plot_upper_limit(label=result.label)\n",
    "    except: \n",
    "        result.plot_sensitivity(label=result.label)\n",
    "\n",
    "\n",
    "plt.legend()\n",
    "plt.yscale(\"log\")\n",
    "plt.xscale(\"log\")\n",
    "plt.xlabel(\"WIMP Mass [GeV$/c^2$]\")\n",
    "plt.ylabel(\"WIMP-nucleon cross-section [cm$^2$]\")\n",
    "plt.show()\n",
    "\n"
   ]
  },
  {
   "cell_type": "markdown",
   "id": "aaf562c6",
   "metadata": {},
   "source": [
    "## Plotting many results with nice labels\n",
    "if you have https://github.com/cphyc/matplotlib-label-lines installed, you can have all plot labels neatly placed alongside your lines, with the option to manually choose the x-position in order to show them all: "
   ]
  },
  {
   "cell_type": "code",
   "execution_count": null,
   "id": "956b8652",
   "metadata": {},
   "outputs": [],
   "source": [
    "all_wimp_limits = find_dd_results(\"WIMPSI*\")\n",
    "nufloor = DD_result(\"nufloor*\")"
   ]
  },
  {
   "cell_type": "code",
   "execution_count": null,
   "id": "d8ab2280",
   "metadata": {},
   "outputs": [],
   "source": [
    "fig = plt.subplots(figsize=(10,5), dpi=150)\n",
    "\n",
    "for k,i in all_wimp_limits.items():\n",
    "    try:\n",
    "        i.plot_upper_limit(label=i.label)\n",
    "    except:\n",
    "        i.plot_sensitivity(label=i.label)\n",
    "plt.xlim([1e-1, 1e3])\n",
    "plt.ylim([5e-48, 1e-35])\n",
    "\n",
    "plt.yscale(\"log\") #if you do not set hte \n",
    "plt.xscale(\"log\")\n",
    "plt.xlim([1e-1, 1e3])\n",
    "plt.ylim([5e-48, 1e-35])\n",
    "nufloor.plot_band(0., \"nufloor\", color=\"gray\", alpha=0.5)\n",
    "try:\n",
    "    DD_result.add_line_legends(\n",
    "        position_overrides = { #if the line labels overlap, you can set positions here: \n",
    "            #\"WIMPSI_XENON1T_2019_S2onlyupper_limit\":3,\n",
    "            #\"WIMPSI_XENON1T_2019_S2onlyMigdalupper_limit\":0.2\n",
    "        },\n",
    "        size=6,\n",
    "        xmax=1000,\n",
    "        #alpha = 0.5,\n",
    "    )\n",
    "except: \n",
    "    #perhaps you do not have the matplotlib-label-line package?\n",
    "    plt.legend()\n",
    "plt.xlabel(\"WIMP Mass [GeV$/c^2$]\")\n",
    "plt.ylabel(\"WIMP-nucleon cross-section [cm$^2$]\")\n",
    "plt.xlim([0.5, 1e3])\n",
    "plt.ylim([1e-50, 1e-35])\n",
    "#plt.legend(loc='upper right', fontsize='small', frameon=False)\n",
    "plt.show()"
   ]
  },
  {
   "cell_type": "markdown",
   "id": "84ba3fa9",
   "metadata": {},
   "source": [
    "#### Fully adjusted:"
   ]
  },
  {
   "cell_type": "code",
   "execution_count": null,
   "id": "6384f6da",
   "metadata": {},
   "outputs": [],
   "source": [
    "fig = plt.subplots(figsize=(10,5), dpi=150)\n",
    "\n",
    "for k,i in all_wimp_limits.items():\n",
    "    try:\n",
    "        i.plot_upper_limit(label=i.label)\n",
    "    except:\n",
    "        i.plot_sensitivity(label=i.label)\n",
    "plt.xlim([1e-1, 1e3])\n",
    "plt.ylim([5e-48, 1e-35])\n",
    "\n",
    "plt.yscale(\"log\") #if you do not set hte \n",
    "plt.xscale(\"log\")\n",
    "plt.xlim([1e-1, 1e3])\n",
    "plt.ylim([5e-48, 1e-35])\n",
    "nufloor.plot_band(0., \"nufloor\", color=\"gray\", alpha=0.5)\n",
    "try:\n",
    "    DD_result.add_line_legends(\n",
    "        position_overrides = { #if the line labels overlap, you can set positions here: \n",
    "            #\"WIMPSI_XENON1T_2019_S2onlyupper_limit\":3,\n",
    "            #\"WIMPSI_XENON1T_2019_S2onlyMigdalupper_limit\":0.2\n",
    "            \n",
    "             'WIMPSI_CRESSTIII_2019upper_limit':30,\n",
    "             'WIMPSI_DAMIC_2020upper_limit':1.2,\n",
    "             'WIMPSI_DarkSide50_2018_lowE_noquenchupper_limit':7,\n",
    "             'WIMPSI_Darwin_2016_projection_200tysensitivity_median':10,\n",
    "             'WIMPSI_LUX_2017_run4combinedupper_limit':40,\n",
    "             'WIMPSI_LZ_2019_projectionsensitivity_median':20,\n",
    "             'WIMPSI_LZ_2023_2207.03764upper_limit':700,\n",
    "             'WIMPSI_PANDAXII_2020_2007.15469upper_limit':600,\n",
    "             'WIMPSI_PandaX-4T_2021_2107.13438upper_limit':300,\n",
    "             'WIMPSI_XENON1T_2018_1805.12562upper_limit':650,\n",
    "             'WIMPSI_XENON1T_2019_S2onlyMigdalupper_limit':0.9,\n",
    "             'WIMPSI_XENON1T_2019_S2onlyupper_limit':20,\n",
    "             'WIMPSI_XENON1T_2021_2foldupper_limit':6,\n",
    "             'WIMPSI_XENONnT_2020_projection20tysensitivity_median':50,\n",
    "             'WIMPSI_XENONnT_2023_2303.14729upper_limit':100,\n",
    "             'WIMPSI_darkside20k_2017_100tysensitivity_median':8,\n",
    "        },\n",
    "        size=6,\n",
    "        xmax=1000,\n",
    "        #alpha = 0.5,\n",
    "    )\n",
    "except: \n",
    "    #perhaps you do not have the matplotlib-label-line package?\n",
    "    plt.legend()\n",
    "plt.xlabel(\"WIMP Mass [GeV$/c^2$]\")\n",
    "plt.ylabel(\"WIMP-nucleon cross-section [cm$^2$]\")\n",
    "plt.xlim([0.5, 1e3])\n",
    "plt.ylim([1e-50, 1e-35])\n",
    "#plt.legend(loc='upper right', fontsize='small', frameon=False)\n",
    "plt.show()"
   ]
  },
  {
   "cell_type": "code",
   "execution_count": null,
   "id": "e90e7844",
   "metadata": {},
   "outputs": [],
   "source": []
  }
 ],
 "metadata": {
  "kernelspec": {
   "display_name": "Python 3 (ipykernel)",
   "language": "python",
   "name": "python3"
  },
  "language_info": {
   "codemirror_mode": {
    "name": "ipython",
    "version": 3
   },
   "file_extension": ".py",
   "mimetype": "text/x-python",
   "name": "python",
   "nbconvert_exporter": "python",
   "pygments_lexer": "ipython3",
   "version": "3.11.7"
  }
 },
 "nbformat": 4,
 "nbformat_minor": 5
}
